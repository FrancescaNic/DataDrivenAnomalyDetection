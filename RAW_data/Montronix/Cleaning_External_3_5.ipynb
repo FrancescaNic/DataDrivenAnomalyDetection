{
 "cells": [
  {
   "cell_type": "code",
   "execution_count": 1,
   "id": "7778556b",
   "metadata": {},
   "outputs": [],
   "source": [
    "import pandas as pd\n",
    "from matplotlib import pyplot as plt\n",
    "import statistics"
   ]
  },
  {
   "cell_type": "markdown",
   "id": "9b628fb2",
   "metadata": {},
   "source": [
    "# Data Exploration"
   ]
  },
  {
   "cell_type": "code",
   "execution_count": 2,
   "id": "709aa031",
   "metadata": {
    "scrolled": true
   },
   "outputs": [
    {
     "data": {
      "text/html": [
       "<div>\n",
       "<style scoped>\n",
       "    .dataframe tbody tr th:only-of-type {\n",
       "        vertical-align: middle;\n",
       "    }\n",
       "\n",
       "    .dataframe tbody tr th {\n",
       "        vertical-align: top;\n",
       "    }\n",
       "\n",
       "    .dataframe thead th {\n",
       "        text-align: right;\n",
       "    }\n",
       "</style>\n",
       "<table border=\"1\" class=\"dataframe\">\n",
       "  <thead>\n",
       "    <tr style=\"text-align: right;\">\n",
       "      <th></th>\n",
       "      <th>Time</th>\n",
       "      <th>A1</th>\n",
       "      <th>A2</th>\n",
       "      <th>A3</th>\n",
       "    </tr>\n",
       "  </thead>\n",
       "  <tbody>\n",
       "    <tr>\n",
       "      <th>0</th>\n",
       "      <td>0.000000</td>\n",
       "      <td>9.97</td>\n",
       "      <td>-0.37</td>\n",
       "      <td>0.32</td>\n",
       "    </tr>\n",
       "    <tr>\n",
       "      <th>1</th>\n",
       "      <td>0.000309</td>\n",
       "      <td>10.00</td>\n",
       "      <td>-0.37</td>\n",
       "      <td>0.32</td>\n",
       "    </tr>\n",
       "    <tr>\n",
       "      <th>2</th>\n",
       "      <td>0.000617</td>\n",
       "      <td>9.97</td>\n",
       "      <td>-0.34</td>\n",
       "      <td>0.32</td>\n",
       "    </tr>\n",
       "    <tr>\n",
       "      <th>3</th>\n",
       "      <td>0.000926</td>\n",
       "      <td>9.97</td>\n",
       "      <td>-0.37</td>\n",
       "      <td>0.32</td>\n",
       "    </tr>\n",
       "    <tr>\n",
       "      <th>4</th>\n",
       "      <td>0.001234</td>\n",
       "      <td>9.94</td>\n",
       "      <td>-0.37</td>\n",
       "      <td>0.32</td>\n",
       "    </tr>\n",
       "    <tr>\n",
       "      <th>...</th>\n",
       "      <td>...</td>\n",
       "      <td>...</td>\n",
       "      <td>...</td>\n",
       "      <td>...</td>\n",
       "    </tr>\n",
       "    <tr>\n",
       "      <th>299623</th>\n",
       "      <td>92.447701</td>\n",
       "      <td>9.97</td>\n",
       "      <td>-0.37</td>\n",
       "      <td>0.32</td>\n",
       "    </tr>\n",
       "    <tr>\n",
       "      <th>299624</th>\n",
       "      <td>92.448010</td>\n",
       "      <td>10.00</td>\n",
       "      <td>-0.37</td>\n",
       "      <td>0.29</td>\n",
       "    </tr>\n",
       "    <tr>\n",
       "      <th>299625</th>\n",
       "      <td>92.448318</td>\n",
       "      <td>9.97</td>\n",
       "      <td>-0.37</td>\n",
       "      <td>0.32</td>\n",
       "    </tr>\n",
       "    <tr>\n",
       "      <th>299626</th>\n",
       "      <td>92.448627</td>\n",
       "      <td>10.00</td>\n",
       "      <td>-0.34</td>\n",
       "      <td>0.29</td>\n",
       "    </tr>\n",
       "    <tr>\n",
       "      <th>299627</th>\n",
       "      <td>92.448936</td>\n",
       "      <td>9.97</td>\n",
       "      <td>-0.37</td>\n",
       "      <td>0.26</td>\n",
       "    </tr>\n",
       "  </tbody>\n",
       "</table>\n",
       "<p>299628 rows × 4 columns</p>\n",
       "</div>"
      ],
      "text/plain": [
       "             Time     A1    A2    A3\n",
       "0        0.000000   9.97 -0.37  0.32\n",
       "1        0.000309  10.00 -0.37  0.32\n",
       "2        0.000617   9.97 -0.34  0.32\n",
       "3        0.000926   9.97 -0.37  0.32\n",
       "4        0.001234   9.94 -0.37  0.32\n",
       "...           ...    ...   ...   ...\n",
       "299623  92.447701   9.97 -0.37  0.32\n",
       "299624  92.448010  10.00 -0.37  0.29\n",
       "299625  92.448318   9.97 -0.37  0.32\n",
       "299626  92.448627  10.00 -0.34  0.29\n",
       "299627  92.448936   9.97 -0.37  0.26\n",
       "\n",
       "[299628 rows x 4 columns]"
      ]
     },
     "execution_count": 2,
     "metadata": {},
     "output_type": "execute_result"
    }
   ],
   "source": [
    "d1 = pd.read_csv('QUALITY_Vc250_F910_ap3.5.csv', delimiter = ';', decimal=',', usecols = ['Time', '     A1', '     A2', '     A3'])\n",
    "d1=d1.rename(columns={\"     A1\": \"A1\", \"     A2\": \"A2\", \"     A3\": \"A3\"})\n",
    "d1"
   ]
  },
  {
   "cell_type": "code",
   "execution_count": 3,
   "id": "354dafa3",
   "metadata": {
    "scrolled": true
   },
   "outputs": [
    {
     "data": {
      "image/png": "[encoded data removed]",
      "text/plain": [
       "<Figure size 432x288 with 3 Axes>"
      ]
     },
     "metadata": {
      "needs_background": "light"
     },
     "output_type": "display_data"
    }
   ],
   "source": [
    "fig, (ax1, ax2, ax3) = plt.subplots(1, 3)\n",
    "fig.suptitle('External ap 3.5 mm')\n",
    "ax1.plot(d1['Time'], d1['A1'])\n",
    "ax1.set(xlabel='Time', ylabel='A1')\n",
    "ax2.plot(d1['Time'], d1['A2'])\n",
    "ax2.set(xlabel='Time', ylabel='A2')\n",
    "ax3.plot(d1['Time'], d1['A3'])\n",
    "ax3.set(xlabel='Time', ylabel='A3')\n",
    "plt.savefig('External ap 3.5 mm.png')"
   ]
  },
  {
   "cell_type": "markdown",
   "id": "1c6cd686",
   "metadata": {},
   "source": [
    "# Cleaning"
   ]
  },
  {
   "cell_type": "code",
   "execution_count": 4,
   "id": "da858a5c",
   "metadata": {},
   "outputs": [
    {
     "data": {
      "image/png": "[encoded data removed]",
      "text/plain": [
       "<Figure size 432x288 with 1 Axes>"
      ]
     },
     "metadata": {
      "needs_background": "light"
     },
     "output_type": "display_data"
    }
   ],
   "source": [
    "# Zoomed trials to define cleaning interval\n",
    "plt.plot(d1['A1'][21000:36000])\n",
    "plt.xlabel('Time')\n",
    "plt.ylabel('A1')\n",
    "plt.title('Zoomed trials to define cleaning interval')\n",
    "plt.show()"
   ]
  },
  {
   "cell_type": "code",
   "execution_count": 5,
   "id": "5dd72cda",
   "metadata": {},
   "outputs": [],
   "source": [
    "d1_clean = d1[21000:36000]"
   ]
  },
  {
   "cell_type": "code",
   "execution_count": 6,
   "id": "abdd6b0b",
   "metadata": {},
   "outputs": [
    {
     "data": {
      "image/png": "[encoded data removed]",
      "text/plain": [
       "<Figure size 432x288 with 3 Axes>"
      ]
     },
     "metadata": {
      "needs_background": "light"
     },
     "output_type": "display_data"
    }
   ],
   "source": [
    "fig, (ax1, ax2, ax3) = plt.subplots(1, 3)\n",
    "fig.suptitle('External ap 3.5 mm Cleaned')\n",
    "ax1.plot(d1_clean['Time'], d1_clean['A1'])\n",
    "ax1.set(xlabel='Time', ylabel='A1')\n",
    "ax2.plot(d1_clean['Time'], d1_clean['A2'])\n",
    "ax2.set(xlabel='Time', ylabel='A2')\n",
    "ax3.plot(d1_clean['Time'], d1_clean['A3'])\n",
    "ax3.set(xlabel='Time', ylabel='A3')\n",
    "plt.savefig('External ap 3.5 mm cleaned.png')"
   ]
  },
  {
   "cell_type": "code",
   "execution_count": 7,
   "id": "c4b7bba4",
   "metadata": {},
   "outputs": [],
   "source": [
    "d1_clean.to_csv('QUALITY_Vc250_F910_ap3.5_cleaned.csv')"
   ]
  }
 ],
 "metadata": {
  "kernelspec": {
   "display_name": "Python 3 (ipykernel)",
   "language": "python",
   "name": "python3"
  },
  "language_info": {
   "codemirror_mode": {
    "name": "ipython",
    "version": 3
   },
   "file_extension": ".py",
   "mimetype": "text/x-python",
   "name": "python",
   "nbconvert_exporter": "python",
   "pygments_lexer": "ipython3",
   "version": "3.9.7"
  }
 },
 "nbformat": 4,
 "nbformat_minor": 5
}
